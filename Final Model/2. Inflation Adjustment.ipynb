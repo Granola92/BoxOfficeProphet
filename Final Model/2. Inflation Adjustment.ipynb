{
 "cells": [
  {
   "cell_type": "markdown",
   "id": "d03843ec-06c6-40a2-97bf-066e4a010b3f",
   "metadata": {},
   "source": [
    "Inflation Adjustment"
   ]
  },
  {
   "cell_type": "code",
   "execution_count": null,
   "id": "7737151f-d057-467c-978b-e5713fa4ffd3",
   "metadata": {},
   "outputs": [],
   "source": [
    "import pandas as pd"
   ]
  },
  {
   "cell_type": "code",
   "execution_count": null,
   "id": "fa3c47d3-7bb9-4c55-9ddb-234b5c30820d",
   "metadata": {},
   "outputs": [],
   "source": [
    "#This code used to be a lot longer. We figured out that we can just shorten everything by keeping everything in series\n",
    "#Inlfation "
   ]
  },
  {
   "cell_type": "code",
   "execution_count": 11,
   "id": "d21a7be0-d379-4b00-a90d-9fa1745099e3",
   "metadata": {},
   "outputs": [],
   "source": [
    "df = pd.read_csv('Final1.csv')\n",
    "df['inflation_adjustment'] = 1.03**(2023-df['year'])\n",
    "df['Gross Revenue US&Canada USD'] = df['Gross Revenue US&Canada USD']*df['inflation_adjustment']\n",
    "df['Gross Revenue Worldwide USD'] = df['Gross Revenue Worldwide USD']*df['inflation_adjustment']\n",
    "df['Budget Converted'] = df['Budget Converted']*df['inflation_adjustment']\n",
    "df.to_csv('Final2.csv', index=False)"
   ]
  },
  {
   "cell_type": "code",
   "execution_count": null,
   "id": "1e0873d6-911c-4bd7-8079-610b50007733",
   "metadata": {},
   "outputs": [],
   "source": []
  }
 ],
 "metadata": {
  "kernelspec": {
   "display_name": "Python 3 (ipykernel)",
   "language": "python",
   "name": "python3"
  },
  "language_info": {
   "codemirror_mode": {
    "name": "ipython",
    "version": 3
   },
   "file_extension": ".py",
   "mimetype": "text/x-python",
   "name": "python",
   "nbconvert_exporter": "python",
   "pygments_lexer": "ipython3",
   "version": "3.10.8"
  }
 },
 "nbformat": 4,
 "nbformat_minor": 5
}
