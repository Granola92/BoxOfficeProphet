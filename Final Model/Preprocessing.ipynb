{
 "cells": [
  {
   "cell_type": "markdown",
   "id": "eec034d8-7a82-4813-87a6-4fbbaa17c2f9",
   "metadata": {},
   "source": [
    "Pre Processing Data"
   ]
  },
  {
   "cell_type": "code",
   "execution_count": null,
   "id": "10d9d4bd-bf60-4c4e-9d86-0957963e5f24",
   "metadata": {},
   "outputs": [],
   "source": [
    "!pip install currencyconverter\n",
    "import requests\n",
    "from bs4 import BeautifulSoup\n",
    "import re\n",
    "import pandas as pd\n",
    "from currency_converter import CurrencyConverter\n",
    "from currency_converter.currency_converter import RateNotFoundError\n",
    "\n",
    "# Write your code here. \n",
    "prophet = pd.read_csv(\"Prophethuge.csv\")\n",
    "\n",
    "prophet = prophet[prophet['Date Released']!='unknown']\n",
    "prophet['Date Released'] = pd.to_datetime(prophet['Date Released'])\n",
    "prophet['year'] = prophet['Date Released'].dt.year\n",
    "prophet['month'] = prophet['Date Released'].dt.month\n",
    "prophet['day of the week'] = prophet['Date Released'].dt.dayofweek\n",
    "prophet = prophet[prophet['Budget Currency']!='unknown']\n",
    "df = prophet\n",
    "\n",
    "#Initiate currency converter function and read dataframe\n",
    "c = CurrencyConverter()\n",
    "\n",
    "df = df[~((df['Budget Currency'] == 'PKR') | (df['Budget Currency'] == 'RUR') | (df['Budget Currency'] == 'TWD')\n",
    "         | (df['Budget Currency'] == 'EGP') | (df['Budget Currency'] == 'FRF'))]\n",
    "\n",
    "# Function to convert to USD\n",
    "# Modify the conversion function to handle missing rates\n",
    "def convert_to_usd(row):\n",
    "    if row['Budget Currency'] == 'USD':\n",
    "        return row['Estimated Budget']\n",
    "    else:\n",
    "        return c.convert(row['Estimated Budget'], row['Budget Currency'], 'USD')\n",
    "                         \n",
    "# Apply the conversion function to create the 'Budget Converted' column\n",
    "df['Budget Converted'] = df.apply(convert_to_usd, axis=1) \n",
    "\n",
    "df = df[df['Gross Revenue Worldwide USD'].notna()]\n",
    "df = df[df['Gross Revenue US&Canada USD'].notna()]\n",
    "\n",
    "#switch around some columns\n",
    "temp = df['Awards']\n",
    "df['Awards'] = df['Nominations']\n",
    "df['Nominations'] = temp\n",
    "\n",
    "df = df.drop(columns=['Genres','Keywords','Stars','Writers','Directors','Director 3','Estimated Budget', 'Budget Currency'])\n",
    "\n",
    "df.to_csv('Final1.csv', index=False)"
   ]
  },
  {
   "cell_type": "code",
   "execution_count": 10,
   "id": "fd3f3d28-bfeb-4058-ad54-b9e93579ba1d",
   "metadata": {},
   "outputs": [
    {
     "data": {
      "text/plain": [
       "3955"
      ]
     },
     "execution_count": 10,
     "metadata": {},
     "output_type": "execute_result"
    }
   ],
   "source": [
    "len(df)"
   ]
  },
  {
   "cell_type": "code",
   "execution_count": null,
   "id": "429d1e9c-b897-42b6-8697-e6dd7ebb0df7",
   "metadata": {},
   "outputs": [],
   "source": []
  }
 ],
 "metadata": {
  "kernelspec": {
   "display_name": "Python 3 (ipykernel)",
   "language": "python",
   "name": "python3"
  },
  "language_info": {
   "codemirror_mode": {
    "name": "ipython",
    "version": 3
   },
   "file_extension": ".py",
   "mimetype": "text/x-python",
   "name": "python",
   "nbconvert_exporter": "python",
   "pygments_lexer": "ipython3",
   "version": "3.10.8"
  }
 },
 "nbformat": 4,
 "nbformat_minor": 5
}
